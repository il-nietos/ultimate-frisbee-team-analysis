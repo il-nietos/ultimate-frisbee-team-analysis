{
 "cells": [
  {
   "cell_type": "markdown",
   "id": "8e13d261",
   "metadata": {},
   "source": [
    "### Predictions"
   ]
  },
  {
   "cell_type": "markdown",
   "id": "5d26a518",
   "metadata": {},
   "source": [
    "### Imports"
   ]
  },
  {
   "cell_type": "code",
   "execution_count": 33,
   "id": "fe6839ed",
   "metadata": {},
   "outputs": [],
   "source": [
    "import os\n",
    "import pandas as pd\n",
    "import numpy as np\n",
    "\n",
    "import os\n",
    "import re\n",
    "\n",
    "import seaborn as sns\n",
    "%matplotlib inline\n",
    "import matplotlib.pyplot as plt\n",
    "import plotly.express as px\n",
    "\n",
    "from matplotlib.pyplot import figure\n",
    "import datetime\n",
    "from datetime import timedelta\n",
    "from pandas.api.types import is_datetime64_any_dtype as is_datetime\n",
    "\n",
    "from sklearn.preprocessing import OneHotEncoder\n",
    "from sklearn.compose import ColumnTransformer\n",
    "from sklearn.preprocessing import MinMaxScaler, StandardScaler\n",
    "\n",
    "from sklearn.linear_model import LogisticRegression\n",
    "from sklearn.model_selection import train_test_split, cross_val_score\n",
    "from sklearn.metrics import confusion_matrix, roc_curve, auc\n",
    "from matplotlib import pyplot as plt\n",
    "\n",
    "from matplotlib.colors import ListedColormap\n",
    "from sklearn.dummy import DummyClassifier\n",
    "import collections, numpy\n",
    "from statsmodels.graphics.mosaicplot import mosaic\n",
    "\n",
    "from sklearn.ensemble import RandomForestClassifier\n",
    "from sklearn.dummy import DummyClassifier\n",
    "\n",
    "\n",
    "from sklearn.metrics import accuracy_score, precision_score, recall_score, classification_report \n",
    "from sklearn.metrics import confusion_matrix, ConfusionMatrixDisplay\n",
    "from sklearn.metrics import RocCurveDisplay, roc_curve, roc_auc_score\n",
    "from sklearn.metrics import precision_recall_curve, plot_precision_recall_curve"
   ]
  },
  {
   "cell_type": "markdown",
   "id": "c95d74ce",
   "metadata": {},
   "source": [
    "## Important: \n",
    "\n",
    "* Modify features to be the mean of past 3 games"
   ]
  },
  {
   "cell_type": "markdown",
   "id": "b87601f2",
   "metadata": {},
   "source": [
    "### Set paths"
   ]
  },
  {
   "cell_type": "code",
   "execution_count": 34,
   "id": "a8dd5dec",
   "metadata": {},
   "outputs": [],
   "source": [
    "data_clean = 'data/clean'\n",
    "parent = '/Users/ilonanietosvaara/Documents/Kurssit/spiced/spiced_projects/scikit-cilantro-student-code/final_project'\n",
    "\n",
    "datapath_clean = os.path.join(parent, data_clean)\n",
    "os.chdir(datapath_clean)"
   ]
  },
  {
   "cell_type": "markdown",
   "id": "cccb3313",
   "metadata": {},
   "source": [
    "## Read in data"
   ]
  },
  {
   "cell_type": "code",
   "execution_count": 35,
   "id": "92ac37cf",
   "metadata": {},
   "outputs": [],
   "source": [
    "df = pd.read_csv('model.csv', index_col = 'game')"
   ]
  },
  {
   "cell_type": "code",
   "execution_count": 36,
   "id": "526da17a",
   "metadata": {},
   "outputs": [
    {
     "data": {
      "text/html": [
       "<div><div id=b76a057a-7efa-4a70-a9d2-9c8c5a817aea style=\"display:none; background-color:#9D6CFF; color:white; width:200px; height:30px; padding-left:5px; border-radius:4px; flex-direction:row; justify-content:space-around; align-items:center;\" onmouseover=\"this.style.backgroundColor='#BA9BF8'\" onmouseout=\"this.style.backgroundColor='#9D6CFF'\" onclick=\"window.commands?.execute('create-mitosheet-from-dataframe-output');\">See Full Dataframe in Mito</div> <script> if (window.commands.hasCommand('create-mitosheet-from-dataframe-output')) document.getElementById('b76a057a-7efa-4a70-a9d2-9c8c5a817aea').style.display = 'flex' </script> <table border=\"1\" class=\"dataframe\">\n",
       "  <thead>\n",
       "    <tr style=\"text-align: right;\">\n",
       "      <th></th>\n",
       "      <th>game_t1</th>\n",
       "      <th>game_t2</th>\n",
       "      <th>team_id_t1</th>\n",
       "      <th>team_id_t2</th>\n",
       "      <th>catch_mean_t1</th>\n",
       "      <th>catch_mean_t2</th>\n",
       "      <th>catch_sum_t1</th>\n",
       "      <th>catch_sum_t2</th>\n",
       "      <th>catch_std_t1</th>\n",
       "      <th>catch_std_t2</th>\n",
       "      <th>...</th>\n",
       "      <th>game_last_t2</th>\n",
       "      <th>event_type_last_t1</th>\n",
       "      <th>event_type_last_t2</th>\n",
       "      <th>opponent_clean_last_t1</th>\n",
       "      <th>opponent_clean_last_t2</th>\n",
       "      <th>our_score_end_of_point_max_t1</th>\n",
       "      <th>our_score_end_of_point_max_t2</th>\n",
       "      <th>their_score_end_of_point_max_t1</th>\n",
       "      <th>their_score_end_of_point_max_t2</th>\n",
       "      <th>win_t1</th>\n",
       "    </tr>\n",
       "    <tr>\n",
       "      <th>game</th>\n",
       "      <th></th>\n",
       "      <th></th>\n",
       "      <th></th>\n",
       "      <th></th>\n",
       "      <th></th>\n",
       "      <th></th>\n",
       "      <th></th>\n",
       "      <th></th>\n",
       "      <th></th>\n",
       "      <th></th>\n",
       "      <th></th>\n",
       "      <th></th>\n",
       "      <th></th>\n",
       "      <th></th>\n",
       "      <th></th>\n",
       "      <th></th>\n",
       "      <th></th>\n",
       "      <th></th>\n",
       "      <th></th>\n",
       "      <th></th>\n",
       "      <th></th>\n",
       "    </tr>\n",
       "  </thead>\n",
       "  <tbody>\n",
       "    <tr>\n",
       "      <th>0_14_107</th>\n",
       "      <td>0_14_107</td>\n",
       "      <td>0_14_107</td>\n",
       "      <td>0</td>\n",
       "      <td>14</td>\n",
       "      <td>11.650000</td>\n",
       "      <td>13.300000</td>\n",
       "      <td>233.0</td>\n",
       "      <td>266.0</td>\n",
       "      <td>10.534530</td>\n",
       "      <td>12.290775</td>\n",
       "      <td>...</td>\n",
       "      <td>0_14_107</td>\n",
       "      <td>Offense</td>\n",
       "      <td>Offense</td>\n",
       "      <td>nashvillenightwatch</td>\n",
       "      <td>atlantahustle</td>\n",
       "      <td>37.0</td>\n",
       "      <td>27.0</td>\n",
       "      <td>27.0</td>\n",
       "      <td>37.0</td>\n",
       "      <td>1</td>\n",
       "    </tr>\n",
       "    <tr>\n",
       "      <th>0_14_118</th>\n",
       "      <td>0_14_118</td>\n",
       "      <td>0_14_118</td>\n",
       "      <td>0</td>\n",
       "      <td>14</td>\n",
       "      <td>12.500000</td>\n",
       "      <td>12.684211</td>\n",
       "      <td>250.0</td>\n",
       "      <td>241.0</td>\n",
       "      <td>9.185228</td>\n",
       "      <td>7.895517</td>\n",
       "      <td>...</td>\n",
       "      <td>0_14_118</td>\n",
       "      <td>Offense</td>\n",
       "      <td>Offense</td>\n",
       "      <td>nashvillenightwatch</td>\n",
       "      <td>atlantahustle</td>\n",
       "      <td>31.0</td>\n",
       "      <td>19.0</td>\n",
       "      <td>18.0</td>\n",
       "      <td>31.0</td>\n",
       "      <td>1</td>\n",
       "    </tr>\n",
       "    <tr>\n",
       "      <th>0_14_140</th>\n",
       "      <td>0_14_140</td>\n",
       "      <td>0_14_140</td>\n",
       "      <td>0</td>\n",
       "      <td>14</td>\n",
       "      <td>13.850000</td>\n",
       "      <td>0.100000</td>\n",
       "      <td>277.0</td>\n",
       "      <td>1.0</td>\n",
       "      <td>13.437085</td>\n",
       "      <td>0.316228</td>\n",
       "      <td>...</td>\n",
       "      <td>0_14_140</td>\n",
       "      <td>Offense</td>\n",
       "      <td>Offense</td>\n",
       "      <td>nashvillenightwatch</td>\n",
       "      <td>atlantahustle</td>\n",
       "      <td>27.0</td>\n",
       "      <td>22.0</td>\n",
       "      <td>22.0</td>\n",
       "      <td>27.0</td>\n",
       "      <td>1</td>\n",
       "    </tr>\n",
       "    <tr>\n",
       "      <th>0_14_157</th>\n",
       "      <td>0_14_157</td>\n",
       "      <td>0_14_157</td>\n",
       "      <td>0</td>\n",
       "      <td>14</td>\n",
       "      <td>14.100000</td>\n",
       "      <td>13.700000</td>\n",
       "      <td>282.0</td>\n",
       "      <td>274.0</td>\n",
       "      <td>10.808866</td>\n",
       "      <td>16.921180</td>\n",
       "      <td>...</td>\n",
       "      <td>0_14_157</td>\n",
       "      <td>Offense</td>\n",
       "      <td>Offense</td>\n",
       "      <td>nashvillenightwatch</td>\n",
       "      <td>atlantahustle</td>\n",
       "      <td>18.0</td>\n",
       "      <td>16.0</td>\n",
       "      <td>17.0</td>\n",
       "      <td>15.0</td>\n",
       "      <td>1</td>\n",
       "    </tr>\n",
       "    <tr>\n",
       "      <th>0_14_176</th>\n",
       "      <td>0_14_176</td>\n",
       "      <td>0_14_176</td>\n",
       "      <td>0</td>\n",
       "      <td>14</td>\n",
       "      <td>12.000000</td>\n",
       "      <td>13.600000</td>\n",
       "      <td>240.0</td>\n",
       "      <td>272.0</td>\n",
       "      <td>6.521220</td>\n",
       "      <td>17.578096</td>\n",
       "      <td>...</td>\n",
       "      <td>0_14_176</td>\n",
       "      <td>Offense</td>\n",
       "      <td>Offense</td>\n",
       "      <td>nashvillenightwatch</td>\n",
       "      <td>atlantahustle</td>\n",
       "      <td>24.0</td>\n",
       "      <td>21.0</td>\n",
       "      <td>20.0</td>\n",
       "      <td>24.0</td>\n",
       "      <td>1</td>\n",
       "    </tr>\n",
       "    <tr>\n",
       "      <th>...</th>\n",
       "      <td>...</td>\n",
       "      <td>...</td>\n",
       "      <td>...</td>\n",
       "      <td>...</td>\n",
       "      <td>...</td>\n",
       "      <td>...</td>\n",
       "      <td>...</td>\n",
       "      <td>...</td>\n",
       "      <td>...</td>\n",
       "      <td>...</td>\n",
       "      <td>...</td>\n",
       "      <td>...</td>\n",
       "      <td>...</td>\n",
       "      <td>...</td>\n",
       "      <td>...</td>\n",
       "      <td>...</td>\n",
       "      <td>...</td>\n",
       "      <td>...</td>\n",
       "      <td>...</td>\n",
       "      <td>...</td>\n",
       "      <td>...</td>\n",
       "    </tr>\n",
       "    <tr>\n",
       "      <th>7_8_203</th>\n",
       "      <td>7_8_203</td>\n",
       "      <td>7_8_203</td>\n",
       "      <td>7</td>\n",
       "      <td>8</td>\n",
       "      <td>14.866667</td>\n",
       "      <td>10.850000</td>\n",
       "      <td>223.0</td>\n",
       "      <td>217.0</td>\n",
       "      <td>19.386544</td>\n",
       "      <td>11.672167</td>\n",
       "      <td>...</td>\n",
       "      <td>7_8_203</td>\n",
       "      <td>Offense</td>\n",
       "      <td>Offense</td>\n",
       "      <td>indianapolisalleycats</td>\n",
       "      <td>detroitmechanix</td>\n",
       "      <td>16.0</td>\n",
       "      <td>19.0</td>\n",
       "      <td>19.0</td>\n",
       "      <td>16.0</td>\n",
       "      <td>0</td>\n",
       "    </tr>\n",
       "    <tr>\n",
       "      <th>7_8_28</th>\n",
       "      <td>7_8_28</td>\n",
       "      <td>7_8_28</td>\n",
       "      <td>7</td>\n",
       "      <td>8</td>\n",
       "      <td>16.588235</td>\n",
       "      <td>10.800000</td>\n",
       "      <td>282.0</td>\n",
       "      <td>216.0</td>\n",
       "      <td>16.431900</td>\n",
       "      <td>9.860074</td>\n",
       "      <td>...</td>\n",
       "      <td>7_8_28</td>\n",
       "      <td>Offense</td>\n",
       "      <td>Offense</td>\n",
       "      <td>indianapolisalleycats</td>\n",
       "      <td>detroitmechanix</td>\n",
       "      <td>21.0</td>\n",
       "      <td>29.0</td>\n",
       "      <td>29.0</td>\n",
       "      <td>21.0</td>\n",
       "      <td>0</td>\n",
       "    </tr>\n",
       "    <tr>\n",
       "      <th>7_8_75</th>\n",
       "      <td>7_8_75</td>\n",
       "      <td>7_8_75</td>\n",
       "      <td>7</td>\n",
       "      <td>8</td>\n",
       "      <td>14.882353</td>\n",
       "      <td>11.550000</td>\n",
       "      <td>253.0</td>\n",
       "      <td>231.0</td>\n",
       "      <td>13.564118</td>\n",
       "      <td>9.588782</td>\n",
       "      <td>...</td>\n",
       "      <td>7_8_75</td>\n",
       "      <td>Offense</td>\n",
       "      <td>Offense</td>\n",
       "      <td>indianapolisalleycats</td>\n",
       "      <td>detroitmechanix</td>\n",
       "      <td>24.0</td>\n",
       "      <td>29.0</td>\n",
       "      <td>29.0</td>\n",
       "      <td>24.0</td>\n",
       "      <td>0</td>\n",
       "    </tr>\n",
       "    <tr>\n",
       "      <th>7_8_9</th>\n",
       "      <td>7_8_9</td>\n",
       "      <td>7_8_9</td>\n",
       "      <td>7</td>\n",
       "      <td>8</td>\n",
       "      <td>15.900000</td>\n",
       "      <td>9.350000</td>\n",
       "      <td>318.0</td>\n",
       "      <td>187.0</td>\n",
       "      <td>12.451590</td>\n",
       "      <td>5.173566</td>\n",
       "      <td>...</td>\n",
       "      <td>7_8_9</td>\n",
       "      <td>Offense</td>\n",
       "      <td>Offense</td>\n",
       "      <td>indianapolisalleycats</td>\n",
       "      <td>detroitmechanix</td>\n",
       "      <td>16.0</td>\n",
       "      <td>30.0</td>\n",
       "      <td>30.0</td>\n",
       "      <td>16.0</td>\n",
       "      <td>0</td>\n",
       "    </tr>\n",
       "    <tr>\n",
       "      <th>7_8_91</th>\n",
       "      <td>7_8_91</td>\n",
       "      <td>7_8_91</td>\n",
       "      <td>7</td>\n",
       "      <td>8</td>\n",
       "      <td>15.000000</td>\n",
       "      <td>10.450000</td>\n",
       "      <td>300.0</td>\n",
       "      <td>209.0</td>\n",
       "      <td>9.049571</td>\n",
       "      <td>4.260899</td>\n",
       "      <td>...</td>\n",
       "      <td>7_8_91</td>\n",
       "      <td>Offense</td>\n",
       "      <td>Offense</td>\n",
       "      <td>indianapolisalleycats</td>\n",
       "      <td>detroitmechanix</td>\n",
       "      <td>22.0</td>\n",
       "      <td>29.0</td>\n",
       "      <td>29.0</td>\n",
       "      <td>22.0</td>\n",
       "      <td>0</td>\n",
       "    </tr>\n",
       "  </tbody>\n",
       "</table></div>"
      ],
      "text/plain": [
       "           game_t1   game_t2  team_id_t1  team_id_t2  catch_mean_t1  \\\n",
       "game                                                                  \n",
       "0_14_107  0_14_107  0_14_107           0          14      11.650000   \n",
       "0_14_118  0_14_118  0_14_118           0          14      12.500000   \n",
       "0_14_140  0_14_140  0_14_140           0          14      13.850000   \n",
       "0_14_157  0_14_157  0_14_157           0          14      14.100000   \n",
       "0_14_176  0_14_176  0_14_176           0          14      12.000000   \n",
       "...            ...       ...         ...         ...            ...   \n",
       "7_8_203    7_8_203   7_8_203           7           8      14.866667   \n",
       "7_8_28      7_8_28    7_8_28           7           8      16.588235   \n",
       "7_8_75      7_8_75    7_8_75           7           8      14.882353   \n",
       "7_8_9        7_8_9     7_8_9           7           8      15.900000   \n",
       "7_8_91      7_8_91    7_8_91           7           8      15.000000   \n",
       "\n",
       "          catch_mean_t2  catch_sum_t1  catch_sum_t2  catch_std_t1  \\\n",
       "game                                                                \n",
       "0_14_107      13.300000         233.0         266.0     10.534530   \n",
       "0_14_118      12.684211         250.0         241.0      9.185228   \n",
       "0_14_140       0.100000         277.0           1.0     13.437085   \n",
       "0_14_157      13.700000         282.0         274.0     10.808866   \n",
       "0_14_176      13.600000         240.0         272.0      6.521220   \n",
       "...                 ...           ...           ...           ...   \n",
       "7_8_203       10.850000         223.0         217.0     19.386544   \n",
       "7_8_28        10.800000         282.0         216.0     16.431900   \n",
       "7_8_75        11.550000         253.0         231.0     13.564118   \n",
       "7_8_9          9.350000         318.0         187.0     12.451590   \n",
       "7_8_91        10.450000         300.0         209.0      9.049571   \n",
       "\n",
       "          catch_std_t2  ...  game_last_t2  event_type_last_t1  \\\n",
       "game                    ...                                     \n",
       "0_14_107     12.290775  ...      0_14_107             Offense   \n",
       "0_14_118      7.895517  ...      0_14_118             Offense   \n",
       "0_14_140      0.316228  ...      0_14_140             Offense   \n",
       "0_14_157     16.921180  ...      0_14_157             Offense   \n",
       "0_14_176     17.578096  ...      0_14_176             Offense   \n",
       "...                ...  ...           ...                 ...   \n",
       "7_8_203      11.672167  ...       7_8_203             Offense   \n",
       "7_8_28        9.860074  ...        7_8_28             Offense   \n",
       "7_8_75        9.588782  ...        7_8_75             Offense   \n",
       "7_8_9         5.173566  ...         7_8_9             Offense   \n",
       "7_8_91        4.260899  ...        7_8_91             Offense   \n",
       "\n",
       "          event_type_last_t2  opponent_clean_last_t1  opponent_clean_last_t2  \\\n",
       "game                                                                           \n",
       "0_14_107             Offense     nashvillenightwatch           atlantahustle   \n",
       "0_14_118             Offense     nashvillenightwatch           atlantahustle   \n",
       "0_14_140             Offense     nashvillenightwatch           atlantahustle   \n",
       "0_14_157             Offense     nashvillenightwatch           atlantahustle   \n",
       "0_14_176             Offense     nashvillenightwatch           atlantahustle   \n",
       "...                      ...                     ...                     ...   \n",
       "7_8_203              Offense   indianapolisalleycats         detroitmechanix   \n",
       "7_8_28               Offense   indianapolisalleycats         detroitmechanix   \n",
       "7_8_75               Offense   indianapolisalleycats         detroitmechanix   \n",
       "7_8_9                Offense   indianapolisalleycats         detroitmechanix   \n",
       "7_8_91               Offense   indianapolisalleycats         detroitmechanix   \n",
       "\n",
       "          our_score_end_of_point_max_t1  our_score_end_of_point_max_t2  \\\n",
       "game                                                                     \n",
       "0_14_107                           37.0                           27.0   \n",
       "0_14_118                           31.0                           19.0   \n",
       "0_14_140                           27.0                           22.0   \n",
       "0_14_157                           18.0                           16.0   \n",
       "0_14_176                           24.0                           21.0   \n",
       "...                                 ...                            ...   \n",
       "7_8_203                            16.0                           19.0   \n",
       "7_8_28                             21.0                           29.0   \n",
       "7_8_75                             24.0                           29.0   \n",
       "7_8_9                              16.0                           30.0   \n",
       "7_8_91                             22.0                           29.0   \n",
       "\n",
       "          their_score_end_of_point_max_t1  their_score_end_of_point_max_t2  \\\n",
       "game                                                                         \n",
       "0_14_107                             27.0                             37.0   \n",
       "0_14_118                             18.0                             31.0   \n",
       "0_14_140                             22.0                             27.0   \n",
       "0_14_157                             17.0                             15.0   \n",
       "0_14_176                             20.0                             24.0   \n",
       "...                                   ...                              ...   \n",
       "7_8_203                              19.0                             16.0   \n",
       "7_8_28                               29.0                             21.0   \n",
       "7_8_75                               29.0                             24.0   \n",
       "7_8_9                                30.0                             16.0   \n",
       "7_8_91                               29.0                             22.0   \n",
       "\n",
       "          win_t1  \n",
       "game              \n",
       "0_14_107       1  \n",
       "0_14_118       1  \n",
       "0_14_140       1  \n",
       "0_14_157       1  \n",
       "0_14_176       1  \n",
       "...          ...  \n",
       "7_8_203        0  \n",
       "7_8_28         0  \n",
       "7_8_75         0  \n",
       "7_8_9          0  \n",
       "7_8_91         0  \n",
       "\n",
       "[720 rows x 145 columns]"
      ]
     },
     "execution_count": 36,
     "metadata": {},
     "output_type": "execute_result"
    }
   ],
   "source": [
    "df"
   ]
  },
  {
   "cell_type": "markdown",
   "id": "296bd8b2",
   "metadata": {},
   "source": [
    "### correlation heatmap"
   ]
  },
  {
   "cell_type": "code",
   "execution_count": 37,
   "id": "1625227c",
   "metadata": {},
   "outputs": [],
   "source": [
    "#fig=plt.figure(figsize=(12,12), dpi= 100, facecolor='w')\n",
    "#sns.heatmap(df.corr().abs(), cmap=\"YlGnBu\", linewidths= 10)\n",
    "#annot = True,"
   ]
  },
  {
   "cell_type": "code",
   "execution_count": 38,
   "id": "5a718e03",
   "metadata": {},
   "outputs": [],
   "source": [
    "#sns.pairplot(df, hue='win_t1')"
   ]
  },
  {
   "cell_type": "markdown",
   "id": "e93b2e38",
   "metadata": {},
   "source": [
    "## Drop null values"
   ]
  },
  {
   "cell_type": "code",
   "execution_count": 39,
   "id": "80510a79",
   "metadata": {},
   "outputs": [
    {
     "data": {
      "text/plain": [
       "(720, 145)"
      ]
     },
     "execution_count": 39,
     "metadata": {},
     "output_type": "execute_result"
    }
   ],
   "source": [
    "df.shape"
   ]
  },
  {
   "cell_type": "code",
   "execution_count": 40,
   "id": "b160f783",
   "metadata": {},
   "outputs": [],
   "source": [
    "df= df.dropna(axis=1)"
   ]
  },
  {
   "cell_type": "code",
   "execution_count": 41,
   "id": "a9c75b20",
   "metadata": {},
   "outputs": [
    {
     "data": {
      "text/plain": [
       "(720, 140)"
      ]
     },
     "execution_count": 41,
     "metadata": {},
     "output_type": "execute_result"
    }
   ],
   "source": [
    "df.shape"
   ]
  },
  {
   "cell_type": "markdown",
   "id": "a37bb48e",
   "metadata": {},
   "source": [
    "## Train-test split"
   ]
  },
  {
   "cell_type": "code",
   "execution_count": 42,
   "id": "593ff886",
   "metadata": {},
   "outputs": [],
   "source": [
    "df, df_test = train_test_split(df, test_size=0.2, random_state = 30)"
   ]
  },
  {
   "cell_type": "markdown",
   "id": "94863d1d",
   "metadata": {},
   "source": [
    "## Scale data"
   ]
  },
  {
   "cell_type": "markdown",
   "id": "6956cd5a",
   "metadata": {},
   "source": [
    "col_transformer_scale = ColumnTransformer(transformers=[\n",
    "    ('age_knn_scaled', MinMaxScaler(), ['age_knn']),\n",
    "    ('fare_scaled', MinMaxScaler(), ['fare'])]# also include the columns not transformed in the output\n",
    ")"
   ]
  },
  {
   "cell_type": "markdown",
   "id": "26c05a6d",
   "metadata": {},
   "source": [
    "scale_train = pd.DataFrame(col_transformer_scale.fit_transform(df_train), columns=col_transformer_scale.get_feature_names_out()) "
   ]
  },
  {
   "cell_type": "markdown",
   "id": "ccf0fa84",
   "metadata": {},
   "source": [
    "## Baseline model"
   ]
  },
  {
   "cell_type": "code",
   "execution_count": 43,
   "id": "77c574eb",
   "metadata": {},
   "outputs": [],
   "source": [
    "m = LogisticRegression(max_iter=1000)"
   ]
  },
  {
   "cell_type": "code",
   "execution_count": 44,
   "id": "e99a55cb",
   "metadata": {},
   "outputs": [
    {
     "data": {
      "text/plain": [
       "Index(['catch_perc_mean_t1', 'catch_perc_mean_t2', 'catch_perc_sum_t1',\n",
       "       'catch_perc_sum_t2', 'catch_perc_std_t2', 'team_id_last_t1',\n",
       "       'team_id_last_t2', 'game_id_str_last_t1', 'game_id_str_last_t2',\n",
       "       'game_id_last_t1', 'game_id_last_t2', 'team_last_t1', 'team_last_t2',\n",
       "       'opponent_id_last_t1', 'opponent_id_last_t2', 'date_id_last_t1',\n",
       "       'date_id_last_t2', 'line_last_t1', 'line_last_t2', 'datetime_last_t1',\n",
       "       'datetime_last_t2', 'act_player_id_last_t1', 'act_player_id_last_t2',\n",
       "       'season_last_t1', 'season_last_t2', 'opponent_last_t1',\n",
       "       'opponent_last_t2', 'ranking2019_last_t1', 'ranking2019_last_t2',\n",
       "       'game_last_t1', 'game_last_t2', 'event_type_last_t1',\n",
       "       'event_type_last_t2', 'opponent_clean_last_t1',\n",
       "       'opponent_clean_last_t2', 'our_score_end_of_point_max_t1',\n",
       "       'our_score_end_of_point_max_t2', 'their_score_end_of_point_max_t1',\n",
       "       'their_score_end_of_point_max_t2', 'win_t1'],\n",
       "      dtype='object')"
      ]
     },
     "execution_count": 44,
     "metadata": {},
     "output_type": "execute_result"
    }
   ],
   "source": [
    "df.columns[100:150]"
   ]
  },
  {
   "cell_type": "markdown",
   "id": "2ce0274b",
   "metadata": {},
   "source": [
    "##### Define X and y for baseline model"
   ]
  },
  {
   "cell_type": "code",
   "execution_count": 45,
   "id": "a030dbde",
   "metadata": {},
   "outputs": [],
   "source": [
    "# Make sure to not include clearly winning related variables: pulls, goals, assists, turnovers\n",
    "# Only take std and mean (sum not great for the model)"
   ]
  },
  {
   "cell_type": "code",
   "execution_count": 46,
   "id": "4a9a2d6a",
   "metadata": {},
   "outputs": [],
   "source": [
    "X= df[['catch_mean_t1',\n",
    "       'catch_mean_t2','catch_std_t1',\n",
    "       'catch_std_t2', 'pass_perc_mean_t1', 'pass_perc_mean_t2',\n",
    "       'pass_perc_std_t1',\n",
    "       'pass_perc_std_t2', 'drop_mean_t1', 'drop_mean_t2', 'drop_std_t1', 'drop_std_t2', 'throw_mean_t1', 'throw_mean_t2',\n",
    "       'throw_std_t1', 'throw_std_t2', 'dropped_throw_mean_t1',\n",
    "       'dropped_throw_mean_t2', 'dropped_throw_std_t1', 'dropped_throw_std_t2', 'stall_mean_t1',\n",
    "       'stall_mean_t2', 'stall_std_t1',\n",
    "       'stall_std_t2', 'miscpenalty_mean_t1', 'miscpenalty_mean_t2', 'miscpenalty_std_t1',\n",
    "       'miscpenalty_std_t2', 'throws_all_mean_t1', 'throws_all_mean_t2', 'throws_all_std_t1',\n",
    "       'throws_all_std_t2', 'd_mean_t1', 'd_mean_t2', 'd_sum_t1', 'd_sum_t2',\n",
    "       'd_std_t1', 'd_std_t2', 'throwaway_mean_t1', 'throwaway_mean_t2','throwaway_std_t1',\n",
    "       'throwaway_std_t2','catch_perc_mean_t1', 'catch_perc_mean_t2', 'catch_perc_std_t2']]\n",
    "\n",
    "\n",
    "X_big = df[['catch_mean_t1',\n",
    "       'catch_mean_t2', 'catch_sum_t1', 'catch_sum_t2', 'catch_std_t1',\n",
    "       'catch_std_t2', 'pass_perc_mean_t1', 'pass_perc_mean_t2',\n",
    "       'pass_perc_sum_t1', 'pass_perc_sum_t2', 'pass_perc_std_t1',\n",
    "       'pass_perc_std_t2', 'drop_mean_t1', 'drop_mean_t2', 'drop_sum_t1',\n",
    "       'drop_sum_t2', 'drop_std_t1', 'drop_std_t2', 'throw_mean_t1', 'throw_mean_t2', 'throw_sum_t1',\n",
    "       'throw_sum_t2', 'throw_std_t1', 'throw_std_t2', 'dropped_throw_mean_t1',\n",
    "       'dropped_throw_mean_t2', 'dropped_throw_sum_t1',\n",
    "       'dropped_throw_sum_t2', 'dropped_throw_std_t1', 'dropped_throw_std_t2', 'stall_mean_t1',\n",
    "       'stall_mean_t2', 'stall_sum_t1', 'stall_sum_t2', 'stall_std_t1',\n",
    "       'stall_std_t2', 'miscpenalty_mean_t1', 'miscpenalty_mean_t2',\n",
    "       'miscpenalty_sum_t1', 'miscpenalty_sum_t2', 'miscpenalty_std_t1',\n",
    "       'miscpenalty_std_t2', 'turnover_mean_t1', 'turnover_mean_t2',\n",
    "       'turnover_sum_t1', 'turnover_sum_t2', 'turnover_std_t1',\n",
    "       'turnover_std_t2', 'goal_mean_t1', 'goal_mean_t2', 'goal_sum_t1',\n",
    "       'goal_sum_t2', 'goal_std_t1', 'goal_std_t2', 'pull_mean_t1',\n",
    "       'pull_mean_t2', 'pull_sum_t1', 'pull_sum_t2', 'pull_std_t1',\n",
    "       'pull_std_t2', 'throws_all_mean_t1', 'throws_all_mean_t2',\n",
    "       'throws_all_sum_t1', 'throws_all_sum_t2', 'throws_all_std_t1',\n",
    "       'throws_all_std_t2', 'd_mean_t1', 'd_mean_t2', 'd_sum_t1', 'd_sum_t2',\n",
    "       'd_std_t1', 'd_std_t2', 'throwaway_mean_t1', 'throwaway_mean_t2',\n",
    "       'throwaway_sum_t1', 'throwaway_sum_t2', 'throwaway_std_t1',\n",
    "       'throwaway_std_t2','catch_perc_mean_t1', 'catch_perc_mean_t2', 'catch_perc_sum_t1',\n",
    "       'catch_perc_sum_t2', 'catch_perc_std_t2']]\n",
    "\n",
    "\n",
    "y = df['win_t1']\n",
    "\n",
    "\n",
    "\n",
    "X_test= df_test[['catch_mean_t1',\n",
    "       'catch_mean_t2','catch_std_t1',\n",
    "       'catch_std_t2', 'pass_perc_mean_t1', 'pass_perc_mean_t2',\n",
    "       'pass_perc_std_t1',\n",
    "       'pass_perc_std_t2', 'drop_mean_t1', 'drop_mean_t2', 'drop_std_t1', 'drop_std_t2', 'throw_mean_t1', 'throw_mean_t2',\n",
    "       'throw_std_t1', 'throw_std_t2', 'dropped_throw_mean_t1',\n",
    "       'dropped_throw_mean_t2', 'dropped_throw_std_t1', 'dropped_throw_std_t2', 'stall_mean_t1',\n",
    "       'stall_mean_t2', 'stall_std_t1',\n",
    "       'stall_std_t2', 'miscpenalty_mean_t1', 'miscpenalty_mean_t2', 'miscpenalty_std_t1',\n",
    "       'miscpenalty_std_t2', 'throws_all_mean_t1', 'throws_all_mean_t2', 'throws_all_std_t1',\n",
    "       'throws_all_std_t2', 'd_mean_t1', 'd_mean_t2', 'd_sum_t1', 'd_sum_t2',\n",
    "       'd_std_t1', 'd_std_t2', 'throwaway_mean_t1', 'throwaway_mean_t2','throwaway_std_t1',\n",
    "       'throwaway_std_t2','catch_perc_mean_t1', 'catch_perc_mean_t2', 'catch_perc_std_t2']]\n",
    "\n",
    "y_test = df_test['win_t1']"
   ]
  },
  {
   "cell_type": "code",
   "execution_count": 47,
   "id": "f4423288",
   "metadata": {},
   "outputs": [
    {
     "data": {
      "text/plain": [
       "((576, 45), (576,))"
      ]
     },
     "execution_count": 47,
     "metadata": {},
     "output_type": "execute_result"
    }
   ],
   "source": [
    "X.shape, y.shape"
   ]
  },
  {
   "cell_type": "code",
   "execution_count": 48,
   "id": "6b5bdb60",
   "metadata": {},
   "outputs": [],
   "source": [
    "X= X.dropna(axis=1)"
   ]
  },
  {
   "cell_type": "code",
   "execution_count": 49,
   "id": "6502662f",
   "metadata": {},
   "outputs": [
    {
     "data": {
      "text/plain": [
       "LogisticRegression(max_iter=1000)"
      ]
     },
     "execution_count": 49,
     "metadata": {},
     "output_type": "execute_result"
    }
   ],
   "source": [
    "m.fit(X, y)"
   ]
  },
  {
   "cell_type": "code",
   "execution_count": 50,
   "id": "d9d88c96",
   "metadata": {},
   "outputs": [
    {
     "data": {
      "text/plain": [
       "0.90625"
      ]
     },
     "execution_count": 50,
     "metadata": {},
     "output_type": "execute_result"
    }
   ],
   "source": [
    "m.score(X, y)"
   ]
  },
  {
   "cell_type": "code",
   "execution_count": 51,
   "id": "957cdb38",
   "metadata": {},
   "outputs": [
    {
     "data": {
      "text/plain": [
       "array([ 0.03274038,  0.31192846,  0.08895358,  0.25424231,  0.21205345,\n",
       "       -0.13233204, -0.04778864, -0.08048849, -1.29791087,  1.25558314,\n",
       "       -0.97339731,  1.28368416, -0.15814138, -0.18695018, -0.53701356,\n",
       "       -0.07279185, -1.26965044,  1.24073095, -1.28847557,  1.4921654 ])"
      ]
     },
     "execution_count": 51,
     "metadata": {},
     "output_type": "execute_result"
    }
   ],
   "source": [
    "m.coef_[0][0:20]"
   ]
  },
  {
   "cell_type": "code",
   "execution_count": 52,
   "id": "77c4c38e",
   "metadata": {},
   "outputs": [
    {
     "data": {
      "image/png": "[encoded data removed]",
      "text/plain": [
       "<Figure size 1800x1500 with 1 Axes>"
      ]
     },
     "metadata": {
      "needs_background": "light"
     },
     "output_type": "display_data"
    }
   ],
   "source": [
    "figure(figsize=(12, 10), dpi=150)\n",
    "plt.barh(range(30), m.coef_[0][5:35])\n",
    "plt.yticks(range(30), X.columns[5:35])\n",
    "None"
   ]
  },
  {
   "cell_type": "code",
   "execution_count": 53,
   "id": "58b92f91",
   "metadata": {},
   "outputs": [
    {
     "data": {
      "text/plain": [
       "(45,)"
      ]
     },
     "execution_count": 53,
     "metadata": {},
     "output_type": "execute_result"
    }
   ],
   "source": [
    "X.columns.shape"
   ]
  },
  {
   "cell_type": "code",
   "execution_count": 54,
   "id": "9e7c11ef",
   "metadata": {},
   "outputs": [
    {
     "data": {
      "image/png": "[encoded data removed]",
      "text/plain": [
       "<Figure size 1800x1500 with 1 Axes>"
      ]
     },
     "metadata": {
      "needs_background": "light"
     },
     "output_type": "display_data"
    }
   ],
   "source": [
    "figure(figsize=(12, 10), dpi=150)\n",
    "plt.barh(range(21), m.coef_[0][15:36])\n",
    "plt.yticks(range(21), X.columns[15:36])\n",
    "None"
   ]
  },
  {
   "cell_type": "markdown",
   "id": "5e78b0f6",
   "metadata": {},
   "source": [
    "##### Test score"
   ]
  },
  {
   "cell_type": "code",
   "execution_count": 55,
   "id": "a9f3a768",
   "metadata": {},
   "outputs": [
    {
     "data": {
      "text/plain": [
       "0.9236111111111112"
      ]
     },
     "execution_count": 55,
     "metadata": {},
     "output_type": "execute_result"
    }
   ],
   "source": [
    "test_score = m.score(X_test, y_test)\n",
    "test_score"
   ]
  },
  {
   "cell_type": "markdown",
   "id": "ca745287",
   "metadata": {},
   "source": [
    "##### Evaluate predictions"
   ]
  },
  {
   "cell_type": "code",
   "execution_count": 56,
   "id": "55001a2d",
   "metadata": {},
   "outputs": [],
   "source": [
    "ypred = m.predict(X_test)"
   ]
  },
  {
   "cell_type": "code",
   "execution_count": 57,
   "id": "46428fca",
   "metadata": {},
   "outputs": [],
   "source": [
    "norm_cm = (confusion_matrix(y_test, ypred) / confusion_matrix(y_test, ypred).sum()) * 100\n",
    "norm_cm = norm_cm.round(2)"
   ]
  },
  {
   "cell_type": "code",
   "execution_count": 58,
   "id": "92f14574",
   "metadata": {},
   "outputs": [
    {
     "data": {
      "text/plain": [
       "array([[50.69,  2.78],\n",
       "       [ 4.86, 41.67]])"
      ]
     },
     "execution_count": 58,
     "metadata": {},
     "output_type": "execute_result"
    }
   ],
   "source": [
    "norm_cm"
   ]
  },
  {
   "cell_type": "code",
   "execution_count": 59,
   "id": "fd239a68",
   "metadata": {},
   "outputs": [
    {
     "ename": "NameError",
     "evalue": "name 'data' is not defined",
     "output_type": "error",
     "traceback": [
      "\u001b[0;31m---------------------------------------------------------------------------\u001b[0m",
      "\u001b[0;31mNameError\u001b[0m                                 Traceback (most recent call last)",
      "\u001b[0;32m<ipython-input-59-cc2497ed57b8>\u001b[0m in \u001b[0;36m<module>\u001b[0;34m\u001b[0m\n\u001b[1;32m      5\u001b[0m         \u001b[0;34m(\u001b[0m\u001b[0;34m'True'\u001b[0m\u001b[0;34m,\u001b[0m \u001b[0;34m'Positive'\u001b[0m\u001b[0;34m)\u001b[0m\u001b[0;34m:\u001b[0m\u001b[0;34m'#74d4c0'\u001b[0m\u001b[0;34m,\u001b[0m\u001b[0;34m\u001b[0m\u001b[0;34m\u001b[0m\u001b[0m\n\u001b[1;32m      6\u001b[0m         ('False', 'Positive'):'#d9455f'}\n\u001b[0;32m----> 7\u001b[0;31m x = mosaic(data,[0,1], \n\u001b[0m\u001b[1;32m      8\u001b[0m            \u001b[0mproperties\u001b[0m \u001b[0;34m=\u001b[0m \u001b[0;32mlambda\u001b[0m \u001b[0mkey\u001b[0m\u001b[0;34m:\u001b[0m \u001b[0;34m{\u001b[0m\u001b[0;34m'color'\u001b[0m\u001b[0;34m:\u001b[0m \u001b[0mcols\u001b[0m\u001b[0;34m[\u001b[0m\u001b[0mkey\u001b[0m\u001b[0;34m]\u001b[0m\u001b[0;34m}\u001b[0m \u001b[0;34m,\u001b[0m\u001b[0;34m\u001b[0m\u001b[0;34m\u001b[0m\u001b[0m\n\u001b[1;32m      9\u001b[0m            ax=ax,gap=0.01)\n",
      "\u001b[0;31mNameError\u001b[0m: name 'data' is not defined"
     ]
    },
    {
     "data": {
      "image/png": "[encoded data removed]",
      "text/plain": [
       "<Figure size 432x432 with 1 Axes>"
      ]
     },
     "metadata": {
      "needs_background": "light"
     },
     "output_type": "display_data"
    }
   ],
   "source": [
    "fig, ax = plt.subplots(1, 1,figsize=(6,6))\n",
    "\n",
    "cols = {('False', 'Negative'): '#9a1f40',\n",
    "        ('True', 'Negative'): '#def4f0',\n",
    "        ('True', 'Positive'):'#74d4c0', \n",
    "        ('False', 'Positive'):'#d9455f'}\n",
    "x = mosaic(data,[0,1], \n",
    "           properties = lambda key: {'color': cols[key]} ,\n",
    "           ax=ax,gap=0.01)"
   ]
  },
  {
   "cell_type": "markdown",
   "id": "57adc212",
   "metadata": {},
   "source": [
    "## Random forest feature importance"
   ]
  },
  {
   "cell_type": "code",
   "execution_count": 60,
   "id": "4fcd89fd",
   "metadata": {},
   "outputs": [],
   "source": [
    "rfc = RandomForestClassifier()\n"
   ]
  },
  {
   "cell_type": "code",
   "execution_count": 61,
   "id": "5a5fe436",
   "metadata": {},
   "outputs": [
    {
     "data": {
      "text/plain": [
       "RandomForestClassifier()"
      ]
     },
     "execution_count": 61,
     "metadata": {},
     "output_type": "execute_result"
    }
   ],
   "source": [
    "rfc.fit(X, y)\n"
   ]
  },
  {
   "cell_type": "code",
   "execution_count": 62,
   "id": "70ff185d",
   "metadata": {},
   "outputs": [],
   "source": [
    "y_pred = rfc.predict(X_test)"
   ]
  },
  {
   "cell_type": "code",
   "execution_count": 63,
   "id": "7a5aca9c",
   "metadata": {},
   "outputs": [
    {
     "data": {
      "text/plain": [
       "array([0.01062108, 0.01087031, 0.01817641, 0.01286081, 0.03668144,\n",
       "       0.02802902, 0.02066754, 0.01589469, 0.01214027, 0.0222568 ,\n",
       "       0.01180467, 0.0165194 , 0.01195029, 0.01178253, 0.01671552,\n",
       "       0.01364351, 0.01847234, 0.0201436 , 0.01511184, 0.01841165,\n",
       "       0.00445044, 0.00340526, 0.00380342, 0.00550747, 0.00136876,\n",
       "       0.00255957, 0.00142498, 0.00275221, 0.01230394, 0.00926263,\n",
       "       0.01900392, 0.01530699, 0.02604266, 0.03550859, 0.04805845,\n",
       "       0.06552032, 0.01342016, 0.01593974, 0.09230247, 0.09631101,\n",
       "       0.07181992, 0.0716424 , 0.01480419, 0.01239257, 0.01233422])"
      ]
     },
     "execution_count": 63,
     "metadata": {},
     "output_type": "execute_result"
    }
   ],
   "source": [
    "rfc.feature_importances_"
   ]
  },
  {
   "cell_type": "code",
   "execution_count": 75,
   "id": "17a39ce8",
   "metadata": {},
   "outputs": [
    {
     "data": {
      "text/plain": [
       "[(0.0, 0.1)]"
      ]
     },
     "execution_count": 75,
     "metadata": {},
     "output_type": "execute_result"
    },
    {
     "data": {
      "image/png": "[encoded data removed]",
      "text/plain": [
       "<Figure size 432x288 with 1 Axes>"
      ]
     },
     "metadata": {
      "needs_background": "light"
     },
     "output_type": "display_data"
    }
   ],
   "source": [
    "fig, ax = plt.subplots()\n",
    "plt.barh(X.columns[21:40], rfc.feature_importances_[21:40])\n",
    "ax.set(xlim=[0, 0.1])"
   ]
  },
  {
   "cell_type": "code",
   "execution_count": 74,
   "id": "49dbb4a1",
   "metadata": {},
   "outputs": [
    {
     "data": {
      "text/plain": [
       "[(0.0, 0.1)]"
      ]
     },
     "execution_count": 74,
     "metadata": {},
     "output_type": "execute_result"
    },
    {
     "data": {
      "image/png": "[encoded data removed]",
      "text/plain": [
       "<Figure size 432x288 with 1 Axes>"
      ]
     },
     "metadata": {
      "needs_background": "light"
     },
     "output_type": "display_data"
    }
   ],
   "source": [
    "fig, ax = plt.subplots()\n",
    "ax.barh(X.columns[0:20], rfc.feature_importances_[0:20])\n",
    "ax.set(xlim=[0, 0.1])"
   ]
  },
  {
   "cell_type": "code",
   "execution_count": 73,
   "id": "5424c7bc",
   "metadata": {},
   "outputs": [
    {
     "data": {
      "text/plain": [
       "[(0.0, 0.1)]"
      ]
     },
     "execution_count": 73,
     "metadata": {},
     "output_type": "execute_result"
    },
    {
     "data": {
      "image/png": "[encoded data removed]",
      "text/plain": [
       "<Figure size 432x288 with 1 Axes>"
      ]
     },
     "metadata": {
      "needs_background": "light"
     },
     "output_type": "display_data"
    }
   ],
   "source": [
    "fig, ax = plt.subplots()\n",
    "ax.barh(X.columns[40:45], rfc.feature_importances_[40:45], align='center')\n",
    "ax.set(xlim=[0, 0.1])"
   ]
  },
  {
   "cell_type": "markdown",
   "id": "9b9d19a8",
   "metadata": {},
   "source": [
    "## Cross-validation"
   ]
  },
  {
   "cell_type": "code",
   "execution_count": 76,
   "id": "fe479a44",
   "metadata": {},
   "outputs": [
    {
     "data": {
      "text/plain": [
       "'Cross-validation mean 0.879 +- 0.034'"
      ]
     },
     "execution_count": 76,
     "metadata": {},
     "output_type": "execute_result"
    }
   ],
   "source": [
    "# Logistic regression model 1\n",
    "cv_all = cross_val_score(m, X, y, cv=10, scoring='accuracy')\n",
    "cv_mean = cv_all.mean()\n",
    "cv_std = cv_all.std()\n",
    "f\"Cross-validation mean {cv_mean:5.3f} +- {cv_std:5.3f}\""
   ]
  },
  {
   "cell_type": "code",
   "execution_count": 77,
   "id": "280d99dc",
   "metadata": {},
   "outputs": [
    {
     "data": {
      "text/plain": [
       "<BarContainer object of 10 artists>"
      ]
     },
     "execution_count": 77,
     "metadata": {},
     "output_type": "execute_result"
    },
    {
     "data": {
      "image/png": "[encoded data removed]",
      "text/plain": [
       "<Figure size 432x288 with 1 Axes>"
      ]
     },
     "metadata": {
      "needs_background": "light"
     },
     "output_type": "display_data"
    }
   ],
   "source": [
    "# visualise a distribution of the results\n",
    "plt.bar(range(10), cv_all)"
   ]
  },
  {
   "cell_type": "markdown",
   "id": "c491d7e3",
   "metadata": {},
   "source": [
    "## Dummy classifier"
   ]
  },
  {
   "cell_type": "code",
   "execution_count": 78,
   "id": "ef81d695",
   "metadata": {},
   "outputs": [],
   "source": [
    "dummy_clf = DummyClassifier(strategy=\"most_frequent\")\n"
   ]
  },
  {
   "cell_type": "code",
   "execution_count": 79,
   "id": "5cb78d27",
   "metadata": {},
   "outputs": [
    {
     "data": {
      "text/plain": [
       "0.5607638888888888"
      ]
     },
     "execution_count": 79,
     "metadata": {},
     "output_type": "execute_result"
    }
   ],
   "source": [
    "dummy_clf.fit(X, y)\n",
    "DummyClassifier(strategy='most_frequent')\n",
    "dummy_clf.predict(X)\n",
    "dummy_clf.score(X, y)\n"
   ]
  }
 ],
 "metadata": {
  "kernelspec": {
   "display_name": "Python 3",
   "language": "python",
   "name": "python3"
  },
  "language_info": {
   "codemirror_mode": {
    "name": "ipython",
    "version": 3
   },
   "file_extension": ".py",
   "mimetype": "text/x-python",
   "name": "python",
   "nbconvert_exporter": "python",
   "pygments_lexer": "ipython3",
   "version": "3.8.8"
  }
 },
 "nbformat": 4,
 "nbformat_minor": 5
}
